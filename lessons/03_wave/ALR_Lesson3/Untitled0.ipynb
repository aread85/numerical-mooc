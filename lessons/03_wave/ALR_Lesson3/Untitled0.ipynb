{
 "metadata": {
  "name": "",
  "signature": "sha256:cea08f04e7838b6e4dd5abe1d245d6a7a82e40eff6c6fe6d79023c036007bad6"
 },
 "nbformat": 3,
 "nbformat_minor": 0,
 "worksheets": [
  {
   "cells": [
    {
     "cell_type": "code",
     "collapsed": false,
     "input": [
      "def rho_red_light(nx, rho_max, rho_in):\n",
      "    \"\"\"Computes \"red light\" initial condition with shock\n",
      "\n",
      "    Parameters\n",
      "    ----------\n",
      "    nx        : int\n",
      "        Number of grid points in x\n",
      "    rho_max   : float\n",
      "        Maximum allowed car density\n",
      "    rho_in    : float\n",
      "        Density of incoming cars \n",
      "\n",
      "    Returns\n",
      "    -------\n",
      "    rho: array of floats\n",
      "        Array with initial values of density\n",
      "    \"\"\"\n",
      "    rho = rho_max*numpy.ones(nx)\n",
      "    rho[:(nx-1)*3./4.] = rho_in\n",
      "    return rho\n",
      "\n",
      "def computeF(u_max, rho_max, rho):\n",
      "    \"\"\"Computes flux F=V*rho\n",
      "\n",
      "    Parameters\n",
      "    ----------\n",
      "    u_max  : float\n",
      "        Maximum allowed velocity\n",
      "    rho    : array of floats\n",
      "        Array with density of cars at every point x\n",
      "    rho_max: float\n",
      "        Maximum allowed car density\n",
      "        \n",
      "    Returns\n",
      "    -------\n",
      "    F : array\n",
      "        Array with flux at every point x\n",
      "    \"\"\"\n",
      "    return u_max*rho*(1-rho/rho_max)\n"
     ],
     "language": "python",
     "metadata": {},
     "outputs": [],
     "prompt_number": 2
    },
    {
     "cell_type": "code",
     "collapsed": false,
     "input": [],
     "language": "python",
     "metadata": {},
     "outputs": []
    }
   ],
   "metadata": {}
  }
 ]
}