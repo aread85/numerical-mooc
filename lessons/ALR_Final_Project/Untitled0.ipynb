{
 "metadata": {
  "name": "",
  "signature": "sha256:f002a29f75afe76f5ef5ece4e68af1e4cc1928a90bb4a990f8229ccd55847292"
 },
 "nbformat": 3,
 "nbformat_minor": 0,
 "worksheets": [
  {
   "cells": [
    {
     "cell_type": "code",
     "collapsed": false,
     "input": [
      "import numpy \n",
      "import matplotlib.pyplot as plt\n",
      "%matplotlib inline"
     ],
     "language": "python",
     "metadata": {},
     "outputs": [],
     "prompt_number": 3
    },
    {
     "cell_type": "code",
     "collapsed": false,
     "input": [
      "def CSTRS(num, T, dt, m0, v, vt):\n",
      "    \"\"\"\n",
      "    Parameters\n",
      "    ----------\n",
      "    num    : int\n",
      "            Number of CSTR's\n",
      "    T      : float\n",
      "            Length of time\n",
      "    dt     : float\n",
      "            Time-step size\n",
      "    m0     : float\n",
      "            Amount of tracer injected into feed\n",
      "    v      : float\n",
      "            Volumetric flow rate\n",
      "    vt     : float\n",
      "            Volume of tank\n",
      "    \n",
      "    Returns\n",
      "    -------\n",
      "    M      : array of floats\n",
      "            Amount of tracer in each cstr at different time steps\n",
      "    \"\"\"\n",
      "    N = int(T/dt)+1 # Number of time steps needed\n",
      "    t = numpy.linspace(0.0, T, N) # Array of time for ploting.\n",
      "    \n",
      "    #initialize results array \n",
      "    M = numpy.zeros((num+1,N))    \n",
      "    M[1,0] = m0\n",
      "    \n",
      "    for i in range(1,num+1):\n",
      "        for j in range(0,N-1):\n",
      "            M[i,j+1] = M[i,j] - M[i,j]*v/Vt*dt + M[i-1,j]*v/Vt*dt\n",
      "    \n",
      "    \n",
      "\n",
      "    return M"
     ],
     "language": "python",
     "metadata": {},
     "outputs": [],
     "prompt_number": 4
    },
    {
     "cell_type": "code",
     "collapsed": false,
     "input": [
      "num = 15 # Number of CSTR's in series\n",
      "T = 200.0 #length of time (minutes)\n",
      "dt = 2.0 # time step\n",
      "m0 = 100.  # Initial mass of tracer injected (grams)\n",
      "v  = 10   # Volumetric flow rate (m^3/min)\n",
      "Vt = 100. # Volume of single CSTR (m^3)\n",
      "\n",
      "\n",
      "\n",
      "M = CSTRS(num, T, dt, m0, v, Vt)"
     ],
     "language": "python",
     "metadata": {},
     "outputs": [],
     "prompt_number": 5
    },
    {
     "cell_type": "code",
     "collapsed": false,
     "input": [
      "def RTD(num, T, dt, m0, vt):\n",
      "    \"\"\"\n",
      "    Parameters\n",
      "    ----------\n",
      "    num    : int\n",
      "            Number of CSTR's\n",
      "    T      : float\n",
      "            Length of time\n",
      "    dt     : float\n",
      "            Time-step size\n",
      "    M     : array\n",
      "            Amount of tracer in CSTR's\n",
      "    vt     : float\n",
      "            Volume of tank\n",
      "    \n",
      "    Returns\n",
      "    -------\n",
      "    E      : array of floats\n",
      "            RTD distribution for different CSTR's\n",
      "    \"\"\"\n",
      "    \n",
      "    N = int(T/dt)+1 # Number of time steps needed\n",
      "    t = numpy.linspace(0.0, T, N) # Array of time for ploting.\n",
      "    from scipy import integrate\n",
      "    \n",
      "    #initialize results array \n",
      "    C = M/vt\n",
      "    C_integral = numpy.zeros(N)    \n",
      "    E = numpy.zeros((num+1,N))\n",
      "    \n",
      "    for i in range(1,num+1):\n",
      "        c_int = integrate.cumtrapz(C[i,:], t, initial=0)\n",
      "        C_integral[i] = c_int[-1]\n",
      "        E[i,:] = C[i,:]/C_integral[i]\n",
      "        \n",
      "    \n",
      "    \n",
      "\n",
      "    return E"
     ],
     "language": "python",
     "metadata": {},
     "outputs": [],
     "prompt_number": 8
    },
    {
     "cell_type": "code",
     "collapsed": false,
     "input": [
      "C = M/Vt\n",
      "E = RTD(num, T, dt, m0, Vt)"
     ],
     "language": "python",
     "metadata": {},
     "outputs": [],
     "prompt_number": 9
    },
    {
     "cell_type": "code",
     "collapsed": false,
     "input": [],
     "language": "python",
     "metadata": {},
     "outputs": []
    }
   ],
   "metadata": {}
  }
 ]
}