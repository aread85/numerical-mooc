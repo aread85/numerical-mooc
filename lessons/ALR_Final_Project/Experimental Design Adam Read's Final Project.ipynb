{
 "metadata": {
  "name": "",
  "signature": "sha256:355c0637be45cb2a31d1935b1a4ff2ce801c29a291130bce24bf14b4e2e6d5f3"
 },
 "nbformat": 3,
 "nbformat_minor": 0,
 "worksheets": [
  {
   "cells": [
    {
     "cell_type": "heading",
     "level": 1,
     "metadata": {},
     "source": [
      "Experimental Design"
     ]
    },
    {
     "cell_type": "markdown",
     "metadata": {},
     "source": [
      "Now that we've modeled some simple ODE's let's ask some questions:\n",
      "Why do engineer's and scientists create models?\n",
      "How do we confirm a model?\n",
      "What cuases a model to be wrong?\n",
      "\n",
      "Take a minute to think. Maybe even discuss these questions with a friend.\n",
      "\n",
      "Models are our way of explaining the world around us. Engineer's and scientists use models to predict and explain experimental results. Which brings us to how we confirm a model, models can only be confirmed by performing an experiment or by making some observation. If you can't show a result that matches your model then who's to say if it is right or wrong. I once had a manager who told me quote \"All models are wrong, some are useful\". What do you think he meant by this? Models idealize situations which means they don't match experimental data exactly, so they are wrong. However, we don't need to match data exactly but rather as long as it's close the model can be useful. Some things that can cause a model to be wrong include: using the wrong equations, not understanding all the variables involved, or simply not having the right values for variables.\n",
      "\n",
      "This note book will look at how a model can help plan an experiment."
     ]
    },
    {
     "cell_type": "heading",
     "level": 2,
     "metadata": {},
     "source": [
      "CSTR's"
     ]
    },
    {
     "cell_type": "markdown",
     "metadata": {},
     "source": [
      "Let's continue with a simple ODE. In many processing plants chemicals are mixed using reactors called CSTR's (Constant Stirred Tank Reactors) which are essentially a vessesl with an agitator inside. For example in the mining industry copper is extracted from the ore by running the ground ore through a series of CSTR's, a process know as flotation. The copper reacts with chemicals that cause it to attach to bubbles floating it to the surface where it is skimed off. Take a look at how copper is processed from ore to more."
     ]
    },
    {
     "cell_type": "code",
     "collapsed": false,
     "input": [
      "from IPython.display import YouTubeVideo\n",
      "YouTubeVideo('RmaGh4g1JtY')"
     ],
     "language": "python",
     "metadata": {},
     "outputs": [
      {
       "html": [
        "\n",
        "        <iframe\n",
        "            width=\"400\"\n",
        "            height=300\"\n",
        "            src=\"https://www.youtube.com/embed/RmaGh4g1JtY\"\n",
        "            frameborder=\"0\"\n",
        "            allowfullscreen\n",
        "        ></iframe>\n",
        "        "
       ],
       "metadata": {},
       "output_type": "pyout",
       "prompt_number": 1,
       "text": [
        "<IPython.lib.display.YouTubeVideo at 0x3fd1c88>"
       ]
      }
     ],
     "prompt_number": 1
    },
    {
     "cell_type": "markdown",
     "metadata": {},
     "source": [
      "While flotation is only a small part of the overall process it represents a vital step. As material is added to a CSTR it immediately mixes with the material already in the reactor. This means that some atoms entering will exit the reactor right away while some will stay in the reactor almost indefinaetly. The amount of time the atoms spend in the reactor is known as the residence time. The different times that the atoms spend in the reactor means that there is a residence time distribution RTD. The RTD is an important design feature for increasing the efficiency of the reactor."
     ]
    },
    {
     "cell_type": "markdown",
     "metadata": {},
     "source": [
      "The RTD is often determined using a pulse input experiment. A pulse input experiment involves taking a material that won't react, known as a tracer, and injecting it into the feed stream of the reactor. Samples are taken from the exit stream to measure the concentration of tracer. The concentration of the tracer is defined in equation 1 where m is the amount of tracer in the reactor and vt is the volume of the tank."
     ]
    },
    {
     "cell_type": "markdown",
     "metadata": {},
     "source": [
      "\\\\begin{equation} C=\\\\frac{m}{Vt}\\\\end{equation}"
     ]
    },
    {
     "cell_type": "markdown",
     "metadata": {},
     "source": [
      "The change in tracer can then be modeled using equation 2 where dm is the change in the amount of tracer, dt is change in time and v is the volumetric flow rate entering and leaving the reactor."
     ]
    },
    {
     "cell_type": "markdown",
     "metadata": {},
     "source": [
      "\\\\begin{equation}\\\\frac{dm}{dt} = Cv\\\\end{equation}"
     ]
    },
    {
     "cell_type": "markdown",
     "metadata": {},
     "source": [
      "The residence time distribution is given in equation 3"
     ]
    },
    {
     "cell_type": "markdown",
     "metadata": {},
     "source": [
      "\\\\begin{equation}RTD: E = \\\\frac{C}{\\int C} \\\\end{equation}\n"
     ]
    },
    {
     "cell_type": "markdown",
     "metadata": {},
     "source": [
      "Can you descretize equation 2? We're still using Euler's method."
     ]
    },
    {
     "cell_type": "heading",
     "level": 2,
     "metadata": {},
     "source": [
      "Let's Solve it"
     ]
    },
    {
     "cell_type": "markdown",
     "metadata": {},
     "source": [
      "Lets's solve the RTD for a Single CSTR. Go ahead and load your normal libraries."
     ]
    },
    {
     "cell_type": "code",
     "collapsed": false,
     "input": [
      "import numpy \n",
      "import matplotlib.pyplot as plt\n",
      "%matplotlib inline"
     ],
     "language": "python",
     "metadata": {},
     "outputs": [],
     "prompt_number": 2
    },
    {
     "cell_type": "markdown",
     "metadata": {},
     "source": [
      "Start by choosing a length of time, T, and time step, dt.Then calculate the number of time steps required, N."
     ]
    },
    {
     "cell_type": "code",
     "collapsed": false,
     "input": [
      "T = 60.0 #length of time\n",
      "dt = 2.0 # time step\n",
      "N = int(T/dt)+1 # Number of time steps needed\n",
      "t = numpy.linspace(0.0, T, N) # Array of time for ploting."
     ],
     "language": "python",
     "metadata": {},
     "outputs": [],
     "prompt_number": 3
    },
    {
     "cell_type": "markdown",
     "metadata": {},
     "source": [
      "Time to solve!"
     ]
    },
    {
     "cell_type": "code",
     "collapsed": false,
     "input": [
      "# initial conditions\n",
      "m0 = 100.  # Initial mass of tracer injected (grams)\n",
      "v  = 10   # Volumetric flow rate (m^3/min)\n",
      "Vt = 100. # Volume of single CSTR (m^3)\n",
      "\n",
      "# initialize an array to hold the changing mass values\n",
      "m_1 = numpy.zeros(N)\n",
      "m_1[0] = m0"
     ],
     "language": "python",
     "metadata": {},
     "outputs": [],
     "prompt_number": 4
    },
    {
     "cell_type": "markdown",
     "metadata": {},
     "source": [
      "Now we can start stepping through time using Euler's method."
     ]
    },
    {
     "cell_type": "code",
     "collapsed": false,
     "input": [
      "# time-loop using Euler's method\n",
      "for n in range(0,N-1):\n",
      "    m_1[n+1] = m_1[n] - dt*v/Vt*m_1[n]\n"
     ],
     "language": "python",
     "metadata": {},
     "outputs": [],
     "prompt_number": 5
    },
    {
     "cell_type": "markdown",
     "metadata": {},
     "source": [
      "To get the RTD we need to integrate the area under the concentration curve. Luckily Scipy already has an integration function. To make things simple we'll use the trapazoidal method.\n"
     ]
    },
    {
     "cell_type": "code",
     "collapsed": false,
     "input": [
      "c_1 = m_1/Vt\n",
      "\n",
      "from scipy import integrate\n",
      "\n",
      "c_int = integrate.cumtrapz(c_1, t, initial=0)\n",
      "E = c_1/c_int[-1]"
     ],
     "language": "python",
     "metadata": {},
     "outputs": [],
     "prompt_number": 6
    },
    {
     "cell_type": "markdown",
     "metadata": {},
     "source": [
      "Plot the solution."
     ]
    },
    {
     "cell_type": "code",
     "collapsed": false,
     "input": [
      "plt.figure(figsize=(10,4))   #set plot size\n",
      "plt.ylim(0,0.2)             #y-axis plot limits\n",
      "plt.tick_params(axis='both', labelsize=14) #increase font size for ticks\n",
      "plt.xlabel('t', fontsize=14) #x label\n",
      "plt.ylabel('E', fontsize=14) #y label\n",
      "plt.plot(t,E, 'k-');"
     ],
     "language": "python",
     "metadata": {},
     "outputs": [
      {
       "metadata": {},
       "output_type": "display_data",
       "png": "[encoded data removed]",
       "text": [
        "<matplotlib.figure.Figure at 0xa8748d0>"
       ]
      }
     ],
     "prompt_number": 7
    },
    {
     "cell_type": "markdown",
     "metadata": {},
     "source": [
      "Try changing the m0 and dt to see how the RTD changes."
     ]
    },
    {
     "cell_type": "markdown",
     "metadata": {},
     "source": [
      "Now that we have a model. Let's reveiw the experiment agian. Our goal is to find the RTD. Here are some questions to think about:\n",
      "What amount of tracer should be used?\n",
      "How long are you going to sample?\n",
      "How often should you sample? Does it need to be the same interval throught the experiment?\n"
     ]
    },
    {
     "cell_type": "markdown",
     "metadata": {},
     "source": [
      "Based on the model it looks like 100 grams of tracer would require us to take samples for approximately 30 to 40 minutes. If we wanted to shorten the test we would need to use less tracer. It looks like we need to take samples more frequently at the beginning of the testing and less frequently after about 15 minutes. Every 2 minutes looks suffcient for the first 15 minutes and every 5 minute's after that."
     ]
    },
    {
     "cell_type": "heading",
     "level": 2,
     "metadata": {},
     "source": [
      "Lets Create a Function"
     ]
    },
    {
     "cell_type": "markdown",
     "metadata": {},
     "source": [
      "In most processing plants you won't find a CSTR by it's self but rather a series of CSTR's. Let's write a function to model multiple CSTR's in series."
     ]
    },
    {
     "cell_type": "code",
     "collapsed": false,
     "input": [
      "def CSTRS(num, T, dt, m0, v, vt):\n",
      "    \"\"\"\n",
      "    Parameters\n",
      "    ----------\n",
      "    num    : int\n",
      "            Number of CSTR's\n",
      "    T      : float\n",
      "            Length of time\n",
      "    dt     : float\n",
      "            Time-step size\n",
      "    m0     : float\n",
      "            Amount of tracer injected into feed\n",
      "    v      : float\n",
      "            Volumetric flow rate\n",
      "    vt     : float\n",
      "            Volume of tank\n",
      "    \n",
      "    Returns\n",
      "    -------\n",
      "    M      : array of floats\n",
      "            Amount of tracer in each cstr at different time steps\n",
      "    \"\"\"\n",
      "    N = int(T/dt)+1 # Number of time steps needed\n",
      "    t = numpy.linspace(0.0, T, N) # Array of time for ploting.\n",
      "    \n",
      "    #initialize results array \n",
      "    M = numpy.zeros((num+1,N))    \n",
      "    M[1,0] = m0\n",
      "    \n",
      "    for i in range(1,num+1):\n",
      "        for j in range(0,N-1):\n",
      "            M[i,j+1] = M[i,j] - M[i,j]*v/Vt*dt + M[i-1,j]*v/Vt*dt\n",
      "    \n",
      "    \n",
      "\n",
      "    return M"
     ],
     "language": "python",
     "metadata": {},
     "outputs": [],
     "prompt_number": 8
    },
    {
     "cell_type": "code",
     "collapsed": false,
     "input": [
      "def RTD(num, T, dt, m0, vt):\n",
      "    \"\"\"\n",
      "    Parameters\n",
      "    ----------\n",
      "    num    : int\n",
      "            Number of CSTR's\n",
      "    T      : float\n",
      "            Length of time\n",
      "    dt     : float\n",
      "            Time-step size\n",
      "    M     : array\n",
      "            Amount of tracer in CSTR's\n",
      "    vt     : float\n",
      "            Volume of tank\n",
      "    \n",
      "    Returns\n",
      "    -------\n",
      "    E      : array of floats\n",
      "            RTD distribution for different CSTR's\n",
      "    \"\"\"\n",
      "    \n",
      "    N = int(T/dt)+1 # Number of time steps needed\n",
      "    t = numpy.linspace(0.0, T, N) # Array of time for ploting.\n",
      "    from scipy import integrate\n",
      "    \n",
      "    #initialize results array \n",
      "    C = M/vt\n",
      "    C_integral = numpy.zeros(N)    \n",
      "    E = numpy.zeros((num+1,N))\n",
      "    \n",
      "    for i in range(1,num+1):\n",
      "        c_int = integrate.cumtrapz(C[i,:], t, initial=0)\n",
      "        C_integral[i] = c_int[-1]\n",
      "        E[i,:] = C[i,:]/C_integral[i]\n",
      "        \n",
      "    \n",
      "    \n",
      "\n",
      "    return E"
     ],
     "language": "python",
     "metadata": {},
     "outputs": [],
     "prompt_number": 9
    },
    {
     "cell_type": "code",
     "collapsed": false,
     "input": [
      "num = 15 # Number of CSTR's in series\n",
      "T = 300.0 #length of time (minutes)\n",
      "dt = 2.0 # time step\n",
      "m0 = 100.  # Initial mass of tracer injected (grams)\n",
      "v  = 10   # Volumetric flow rate (m^3/min)\n",
      "Vt = 100. # Volume of single CSTR (m^3)\n",
      "\n",
      "N = int(T/dt)+1 # Number of time steps needed\n",
      "t = numpy.linspace(0.0, T, N) # Array of time for ploting.\n",
      "\n",
      "M = CSTRS(num, T, dt, m0, v, Vt)\n",
      "C = M/Vt\n",
      "E = RTD(num, T, dt, m0, Vt)"
     ],
     "language": "python",
     "metadata": {},
     "outputs": [],
     "prompt_number": 10
    },
    {
     "cell_type": "code",
     "collapsed": false,
     "input": [
      "plt.figure(figsize=(10,4))   #set plot size\n",
      "plt.ylim(0,0.1)             #y-axis plot limits\n",
      "plt.tick_params(axis='both', labelsize=14) #increase font size for ticks\n",
      "plt.xlabel('t', fontsize=14) #x label\n",
      "plt.ylabel('E', fontsize=14) #y label\n",
      "plt.plot(t,E[1,:], 'k-');\n",
      "plt.plot(t,E[2,:], 'k-');\n",
      "plt.plot(t,E[3,:], 'k-');\n",
      "plt.plot(t,E[num,:], 'k-');"
     ],
     "language": "python",
     "metadata": {},
     "outputs": [
      {
       "metadata": {},
       "output_type": "display_data",
       "png": "[encoded data removed]",
       "text": [
        "<matplotlib.figure.Figure at 0xa9d40f0>"
       ]
      }
     ],
     "prompt_number": 11
    },
    {
     "cell_type": "markdown",
     "metadata": {},
     "source": [
      "Now we really see how helpful having a model before the experiment is. If we have 15 CSTR's in series, after we inject the tracer there is no need to start sampling the 15th CSTR's exit stream until after 60 mins because no tracer will show up before then. Also we know that it will take almost 250 minutes for the tracer to finish exiting the system. So remember if you can create a model of your system before you design the experiment you can probably get better results."
     ]
    },
    {
     "cell_type": "code",
     "collapsed": false,
     "input": [
      "from IPython.core.display import HTML\n",
      "css_file = '../../styles/numericalmoocstyle.css'\n",
      "HTML(open(css_file, \"r\").read())"
     ],
     "language": "python",
     "metadata": {},
     "outputs": [
      {
       "html": [
        "<link href='http://fonts.googleapis.com/css?family=Alegreya+Sans:100,300,400,500,700,800,900,100italic,300italic,400italic,500italic,700italic,800italic,900italic' rel='stylesheet' type='text/css'>\n",
        "<link href='http://fonts.googleapis.com/css?family=Arvo:400,700,400italic' rel='stylesheet' type='text/css'>\n",
        "<link href='http://fonts.googleapis.com/css?family=PT+Mono' rel='stylesheet' type='text/css'>\n",
        "<link href='http://fonts.googleapis.com/css?family=Shadows+Into+Light' rel='stylesheet' type='text/css'>\n",
        "<link href='http://fonts.googleapis.com/css?family=Nixie+One' rel='stylesheet' type='text/css'>\n",
        "<style>\n",
        "\n",
        "@font-face {\n",
        "    font-family: \"Computer Modern\";\n",
        "    src: url('http://mirrors.ctan.org/fonts/cm-unicode/fonts/otf/cmunss.otf');\n",
        "}\n",
        "\n",
        "#notebook_panel { /* main background */\n",
        "    background: rgb(245,245,245);\n",
        "}\n",
        "\n",
        "div.cell { /* set cell width */\n",
        "    width: 750px;\n",
        "}\n",
        "\n",
        "div #notebook { /* centre the content */\n",
        "    background: #fff; /* white background for content */\n",
        "    width: 1000px;\n",
        "    margin: auto;\n",
        "    padding-left: 0em;\n",
        "}\n",
        "\n",
        "#notebook li { /* More space between bullet points */\n",
        "margin-top:0.8em;\n",
        "}\n",
        "\n",
        "/* draw border around running cells */\n",
        "div.cell.border-box-sizing.code_cell.running { \n",
        "    border: 1px solid #111;\n",
        "}\n",
        "\n",
        "/* Put a solid color box around each cell and its output, visually linking them*/\n",
        "div.cell.code_cell {\n",
        "    background-color: rgb(256,256,256); \n",
        "    border-radius: 0px; \n",
        "    padding: 0.5em;\n",
        "    margin-left:1em;\n",
        "    margin-top: 1em;\n",
        "}\n",
        "\n",
        "div.text_cell_render{\n",
        "    font-family: 'Alegreya Sans' sans-serif;\n",
        "    line-height: 140%;\n",
        "    font-size: 125%;\n",
        "    font-weight: 400;\n",
        "    width:600px;\n",
        "    margin-left:auto;\n",
        "    margin-right:auto;\n",
        "}\n",
        "\n",
        "\n",
        "/* Formatting for header cells */\n",
        ".text_cell_render h1 {\n",
        "    font-family: 'Nixie One', serif;\n",
        "    font-style:regular;\n",
        "    font-weight: 400;    \n",
        "    font-size: 45pt;\n",
        "    line-height: 100%;\n",
        "    color: rgb(0,51,102);\n",
        "    margin-bottom: 0.5em;\n",
        "    margin-top: 0.5em;\n",
        "    display: block;\n",
        "}\t\n",
        ".text_cell_render h2 {\n",
        "    font-family: 'Nixie One', serif;\n",
        "    font-weight: 400;\n",
        "    font-size: 30pt;\n",
        "    line-height: 100%;\n",
        "    color: rgb(0,51,102);\n",
        "    margin-bottom: 0.1em;\n",
        "    margin-top: 0.3em;\n",
        "    display: block;\n",
        "}\t\n",
        "\n",
        ".text_cell_render h3 {\n",
        "    font-family: 'Nixie One', serif;\n",
        "    margin-top:16px;\n",
        "\tfont-size: 22pt;\n",
        "    font-weight: 600;\n",
        "    margin-bottom: 3px;\n",
        "    font-style: regular;\n",
        "    color: rgb(102,102,0);\n",
        "}\n",
        "\n",
        ".text_cell_render h4 {    /*Use this for captions*/\n",
        "    font-family: 'Nixie One', serif;\n",
        "    font-size: 14pt;\n",
        "    text-align: center;\n",
        "    margin-top: 0em;\n",
        "    margin-bottom: 2em;\n",
        "    font-style: regular;\n",
        "}\n",
        "\n",
        ".text_cell_render h5 {  /*Use this for small titles*/\n",
        "    font-family: 'Nixie One', sans-serif;\n",
        "    font-weight: 400;\n",
        "    font-size: 16pt;\n",
        "    color: rgb(163,0,0);\n",
        "    font-style: italic;\n",
        "    margin-bottom: .1em;\n",
        "    margin-top: 0.8em;\n",
        "    display: block;\n",
        "}\n",
        "\n",
        ".text_cell_render h6 { /*use this for copyright note*/\n",
        "    font-family: 'PT Mono', sans-serif;\n",
        "    font-weight: 300;\n",
        "    font-size: 9pt;\n",
        "    line-height: 100%;\n",
        "    color: grey;\n",
        "    margin-bottom: 1px;\n",
        "    margin-top: 1px;\n",
        "}\n",
        "\n",
        ".CodeMirror{\n",
        "        font-family: \"PT Mono\";\n",
        "        font-size: 90%;\n",
        "}\n",
        "\n",
        "</style>\n",
        "<script>\n",
        "    MathJax.Hub.Config({\n",
        "                        TeX: {\n",
        "                           extensions: [\"AMSmath.js\"],\n",
        "                           equationNumbers: { autoNumber: \"AMS\", useLabelIds: true}\n",
        "                           },\n",
        "                tex2jax: {\n",
        "                    inlineMath: [ ['$','$'], [\"\\\\(\",\"\\\\)\"] ],\n",
        "                    displayMath: [ ['$$','$$'], [\"\\\\[\",\"\\\\]\"] ]\n",
        "                },\n",
        "                displayAlign: 'center', // Change this to 'center' to center equations.\n",
        "                \"HTML-CSS\": {\n",
        "                    styles: {'.MathJax_Display': {\"margin\": 4}}\n",
        "                }\n",
        "        });\n",
        "</script>\n"
       ],
       "metadata": {},
       "output_type": "pyout",
       "prompt_number": 12,
       "text": [
        "<IPython.core.display.HTML at 0xa9c4b70>"
       ]
      }
     ],
     "prompt_number": 12
    },
    {
     "cell_type": "code",
     "collapsed": false,
     "input": [],
     "language": "python",
     "metadata": {},
     "outputs": [],
     "prompt_number": 12
    }
   ],
   "metadata": {}
  }
 ]
}