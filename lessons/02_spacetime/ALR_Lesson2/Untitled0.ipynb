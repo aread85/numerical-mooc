{
 "metadata": {
  "name": "",
  "signature": "sha256:db1811f3960d1a0695e9a82ef8178741f89ffb33fd704a70893747b5832c5e73"
 },
 "nbformat": 3,
 "nbformat_minor": 0,
 "worksheets": [
  {
   "cells": [
    {
     "cell_type": "code",
     "collapsed": false,
     "input": [
      "# foupwind --Schemes for convection\n",
      "import numpy \n",
      "import matplotlib.pyplot as plt\n",
      "import sympy\n",
      "from sympy import init_printing\n",
      "init_printing()\n",
      "from sympy.utilities.lambdify import lambdify\n",
      "\n",
      "\n",
      "# set the interactive mode to get an animation on screen\n",
      "plt.ion()\n",
      "\n",
      "# parameters\n",
      "nx = 81      # number of x-intervals\n",
      "nt = 80      # number of time intervals\n",
      "sigma = 0.8  # CFL number\n",
      "c  = 1.      # wave speed\n",
      "dx = 4.0/(nx-1)\n",
      "dt = sigma * dx/c\n",
      "\n",
      "# initialization\n",
      "x =  numpy.arange(0,4+dx,dx)\n",
      "u =  numpy.zeros(nx)\n",
      "un = numpy.zeros(nx)\n",
      "unminus1 = numpy.zeros(nx)\n",
      "u[0] = 1      # sets the LHS value to 1\n",
      "un[0]    = 1\n",
      "unminus1[0] = 1\n",
      "\n",
      "# create initial plot lines        \n",
      "line1,line2 = plt.plot(x,u,'k.-',x,u, 'b--')\n",
      "plt.axis([0,4,-0.5,1.5])\n",
      "plt.xlabel('x')\n",
      "plt.ylabel('u')\n",
      "\n",
      "\n",
      "\n",
      "for i in range(1,nx-1):\n",
      "\t# backward difference for first step in time\n",
      "\tu[i] = un[i]- sigma*( un[i]- un[i-1] )\n",
      "\n",
      "for it in range(nt):\n",
      "\tfor i in range(1,nx):\n",
      "\t\t# backward difference\n",
      "\t\tu[i] = un[i]- sigma*( un[i]- un[i-1] )\n",
      "\t\t# central difference\n",
      "\t\t#u[i] = un[i]- sigma/2*( un[i+1]- un[i-1] )\n",
      "\tu[0] = 1\n",
      "\tline1.set_ydata(u)\n",
      "\tline2.set_ydata(numpy.where(x < c*dt*(it+1), numpy.ones(nx),numpy.zeros(nx) ) )\n",
      "\tun = u.copy()\n",
      "\t\n",
      "# Unset interactive mode\n",
      "plt.ioff()\n",
      "\n",
      "plt.title('nx='+str(nx)+', nt='+str(nt)+', dt='+str(dt), family='serif')\n",
      "#plt.savefig('FOupwind')\n",
      "# \"the call to show is blocking and should be ... last\"\n",
      "plt.show()\n"
     ],
     "language": "python",
     "metadata": {},
     "outputs": []
    },
    {
     "cell_type": "code",
     "collapsed": false,
     "input": [
      "\n",
      "u = un[i]- sigma*( un[i]- un[i-1] )\n",
      "ufunc = lambdify((i), u)    \n",
      "   \n",
      "u = numpy.asarray([ufunc(i9) for i9 in range(1,nx-1)])"
     ],
     "language": "python",
     "metadata": {},
     "outputs": []
    }
   ],
   "metadata": {}
  }
 ]
}