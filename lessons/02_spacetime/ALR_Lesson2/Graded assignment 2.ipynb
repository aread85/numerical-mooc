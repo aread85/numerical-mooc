{
 "metadata": {
  "name": "",
  "signature": "sha256:c504a12561a63db7a2f36593ed313b5b74fad560b4524585898458772e4cd2e9"
 },
 "nbformat": 3,
 "nbformat_minor": 0,
 "worksheets": [
  {
   "cells": [
    {
     "cell_type": "code",
     "collapsed": false,
     "input": [
      "import numpy  \n",
      "import sympy\n",
      "#from math import sin, cos, log, ceil\n",
      "from sympy import init_printing\n",
      "init_printing()\n",
      "from sympy.utilities.lambdify import lambdify\n",
      "import matplotlib.pyplot as plt    \n",
      "%matplotlib inline\n",
      "from matplotlib import rcParams\n",
      "rcParams['font.family'] = 'serif'\n",
      "rcParams['font.size'] = 16\n",
      "from JSAnimation.IPython_display import display_animation\n",
      "from matplotlib import animation\n",
      "\n",
      "x = sympy.symbols('x')\n",
      "\n",
      "phi = (sympy.cos(x)**2*sympy.sin(x)**3)/sympy.exp(x)/(4*x**5)\n",
      "phi\n",
      "\n",
      "phiprime = phi.diff(x)\n",
      "phiprime\n",
      "\n",
      "ufunc = lambdify((x), phiprime)\n",
      "print(\"The value of u at x=4 is {}.\".format(ufunc(2.2)))"
     ],
     "language": "python",
     "metadata": {},
     "outputs": [
      {
       "output_type": "stream",
       "stream": "stdout",
       "text": [
        "The value of u at x=4 is -0.000266489126709.\n"
       ]
      }
     ],
     "prompt_number": 23
    },
    {
     "cell_type": "code",
     "collapsed": false,
     "input": [
      "import sympy\n",
      "\n",
      "x = sympy.symbols('x')\n",
      "\n",
      "eq = sympy.cos(x)**2*sympy.sin(x)**3 / (4*x**5*sympy.exp(x))\n",
      "\n",
      "eq.diff(x).subs(x,2.2).evalf()"
     ],
     "language": "python",
     "metadata": {},
     "outputs": [
      {
       "latex": [
        "$$-0.000266489126709206$$"
       ],
       "metadata": {},
       "output_type": "pyout",
       "png": "[encoded data removed]",
       "prompt_number": 24,
       "text": [
        "-0.000266489126709206"
       ]
      }
     ],
     "prompt_number": 24
    },
    {
     "cell_type": "code",
     "collapsed": false,
     "input": [],
     "language": "python",
     "metadata": {},
     "outputs": []
    }
   ],
   "metadata": {}
  }
 ]
}